{
  "nbformat": 4,
  "nbformat_minor": 0,
  "metadata": {
    "colab": {
      "provenance": [],
      "authorship_tag": "ABX9TyMa95/78n027JpyHE/RkHEE",
      "include_colab_link": true
    },
    "kernelspec": {
      "name": "python3",
      "display_name": "Python 3"
    },
    "language_info": {
      "name": "python"
    }
  },
  "cells": [
    {
      "cell_type": "markdown",
      "metadata": {
        "id": "view-in-github",
        "colab_type": "text"
      },
      "source": [
        "<a href=\"https://colab.research.google.com/github/JhoanCogollo/ejercicios_python_sec/blob/main/EJERCICIOS.ipynb\" target=\"_parent\"><img src=\"https://colab.research.google.com/assets/colab-badge.svg\" alt=\"Open In Colab\"/></a>"
      ]
    },
    {
      "cell_type": "code",
      "execution_count": 5,
      "metadata": {
        "id": "1DlKZOkOboqA",
        "outputId": "d14d216d-24d1-48f1-b2a9-7baaf214d735",
        "colab": {
          "base_uri": "https://localhost:8080/"
        }
      },
      "outputs": [
        {
          "output_type": "stream",
          "name": "stdout",
          "text": [
            "Escirba su nombre: jhoan\n",
            "Escriba su edad:19\n",
            "Hello jhoan\n",
            "Su edad es:  19\n"
          ]
        }
      ],
      "source": [
        "name=input(\"Escirba su nombre: \")\n",
        "\n",
        "old= int(input(\"Escriba su edad:\"))\n",
        "print(\"Hello\",name)\n",
        "print(\"Su edad es: \", str(old))"
      ]
    },
    {
      "cell_type": "markdown",
      "source": [
        "EJERCICIO 1-Calcular área de un rectángulo"
      ],
      "metadata": {
        "id": "8lHbD-gAeXqB"
      }
    },
    {
      "cell_type": "code",
      "source": [
        "##Calcular área de un rectángulo\n",
        "\n",
        "print(\"Programa para el cálculo del área de un rectángulo\")\n",
        "base =float(input(\"Ingrese la base (m): \"))\n",
        "h =float(input(\"Ingrese la altura (m): \"))\n",
        "a= base*h\n",
        "print(\"El área del rectángulo con base\", str(base), \"(m), Y altura\", str(h), \"(m) es: \", str(a), \"m²\")"
      ],
      "metadata": {
        "id": "PITpNOKUeDpn",
        "outputId": "aa4dfbb4-b709-4de1-b5c1-fe49b951289d",
        "colab": {
          "base_uri": "https://localhost:8080/"
        }
      },
      "execution_count": 15,
      "outputs": [
        {
          "output_type": "stream",
          "name": "stdout",
          "text": [
            "Programa para el cálculo del área de un rectángulo\n",
            "Ingrese la base (m): 1\n",
            "Ingrese la altura (m): 1\n",
            "El área del rectángulo con base 1.0 (m), Y altura 1.0 (m) es:  1.0 m²\n"
          ]
        }
      ]
    },
    {
      "cell_type": "markdown",
      "source": [
        "EJERCICIO 2-Calcular área de un triángulo\n",
        "\n",
        "\n"
      ],
      "metadata": {
        "id": "7dJ_RoEuggxU"
      }
    },
    {
      "cell_type": "code",
      "source": [
        "##Calcular área de un rectángulo\n",
        "\n",
        "print(\"Programa para el cálculo del área de un triángulo\")\n",
        "base =float(input(\"Ingrese la base del triángulo(m): \"))\n",
        "h =float(input(\"Ingrese la altura del triángulo (m): \"))\n",
        "a= (base*h)/2\n",
        "print(\"El área del triángulo con base\", str(base), \"(m), Y altura\", str(h), \"(m) es: \", str(a), \"m²\")"
      ],
      "metadata": {
        "id": "UFtP_eDcgf68",
        "outputId": "a04635e4-d044-4088-871f-a76aa378166c",
        "colab": {
          "base_uri": "https://localhost:8080/"
        }
      },
      "execution_count": 16,
      "outputs": [
        {
          "output_type": "stream",
          "name": "stdout",
          "text": [
            "Programa para el cálculo del área de un triángulo\n",
            "Ingrese la base del triángulo(m): 1\n",
            "Ingrese la altura del triángulo (m): 1\n",
            "El área del triángulo con base 1.0 (m), Y altura 1.0 (m) es:  0.5 m²\n"
          ]
        }
      ]
    },
    {
      "cell_type": "markdown",
      "source": [
        "EJERCICIO 3-Calcular área de un círculo"
      ],
      "metadata": {
        "id": "rPwGtMzQh9x1"
      }
    },
    {
      "cell_type": "code",
      "source": [
        "import math\n",
        "print(\"Programa para el cálculo del área de un Círculo\")\n",
        "radio=float(input(\"Ingrese el radio del círculo en (m): \"))\n",
        "a= math.pi*(radio**2)\n",
        "print(\"El área del circulo con radio\", str(radio), \"(m) es \", str(a), (\"m\"))"
      ],
      "metadata": {
        "id": "e85C7y0Zh99g",
        "outputId": "23c74179-60f9-4591-e47c-3774a50282f5",
        "colab": {
          "base_uri": "https://localhost:8080/"
        }
      },
      "execution_count": 21,
      "outputs": [
        {
          "output_type": "stream",
          "name": "stdout",
          "text": [
            "Programa para el cálculo del área de un Círculo\n",
            "Ingrese el radio del círculo en (m): 12.5\n",
            "El área del circulo con radio 12.5 (m) es  490.8738521234052 m\n"
          ]
        }
      ]
    },
    {
      "cell_type": "markdown",
      "source": [
        "EJERCICIO 4-CALCULO DE VOLTAJE INSTANTANEO"
      ],
      "metadata": {
        "id": "tIegH8RWjxGh"
      }
    },
    {
      "cell_type": "code",
      "source": [
        "print(\"Programa para calcular voltaje\")\n",
        "v=float(input(\"ingrese la amplitud: \"))\n",
        "f=float(input(\"ingrese la frecuencia: \"))\n",
        "ang=float(input(\"ingrese el ángulo de fase: \"))\n",
        "t= float(input(\" Ingrese el instante de tiempo: \"))\n",
        "omega =math.pi *f\n",
        "theta=(ang *math.pi)/180\n",
        "v_t=v*math.cos(omega*t +theta)\n",
        "print(\"El voltaje instantaneo con los datos ingresados es de: \", str(v_t),\"v.\")"
      ],
      "metadata": {
        "id": "Crftc64zjxQw",
        "outputId": "26577c1d-43b0-4958-e999-4f85bccfd90c",
        "colab": {
          "base_uri": "https://localhost:8080/"
        }
      },
      "execution_count": 22,
      "outputs": [
        {
          "output_type": "stream",
          "name": "stdout",
          "text": [
            "Programa para calcular voltaje\n",
            "ingrese la amplitud: 1\n",
            "ingrese la frecuencia: 1\n",
            "ingrese el ángulo de fase: 1\n",
            " Ingrese el instante de tiempo: 1\n",
            "El voltaje instantaneo con los datos ingresados es de:  -0.9998476951563913 v.\n"
          ]
        }
      ]
    }
  ]
}